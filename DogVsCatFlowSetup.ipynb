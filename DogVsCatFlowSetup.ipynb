{
 "cells": [
  {
   "cell_type": "markdown",
   "metadata": {},
   "source": [
    "## Dog Vs Cat: A CNN based Dog/Cat Classifer "
   ]
  },
  {
   "cell_type": "markdown",
   "metadata": {},
   "source": [
    "# enviroment setup"
   ]
  },
  {
   "cell_type": "code",
   "execution_count": 1,
   "metadata": {
    "collapsed": false
   },
   "outputs": [],
   "source": [
    "import numpy as np\n",
    "import os\n",
    "import glob\n",
    "import cv2\n",
    "from collections import Counter\n",
    "\n",
    "import matplotlib.pyplot as plt\n",
    "%matplotlib inline\n",
    "plt.rcParams['figure.figsize'] = (10.0, 5.0)\n",
    "\n",
    "TRAIN_DATA_PATH_LIST = [\"./train\"]\n",
    "TEST_DATA_PATH_LIST = [\"./test\"]"
   ]
  },
  {
   "cell_type": "markdown",
   "metadata": {},
   "source": [
    "# load and processing data"
   ]
  },
  {
   "cell_type": "code",
   "execution_count": 23,
   "metadata": {
    "collapsed": false
   },
   "outputs": [
    {
     "name": "stdout",
     "output_type": "stream",
     "text": [
      "processing data from: ./train\n",
      "total 12500 dog images found.\n",
      "total 12500 cat images found.\n",
      "processing: dog\n",
      "most common dog image width:  [(374, 1400), (375, 1345), (500, 1040), (499, 993), (332, 153), (333, 152), (399, 150), (299, 130), (240, 123), (300, 122)]\n",
      "most common dog image height:  [(500, 2486), (499, 2398), (350, 197), (400, 194), (399, 175), (375, 174), (299, 162), (319, 160), (320, 155), (300, 146)]\n",
      "processing: cat\n",
      "most common cat image width:  [(374, 1684), (375, 1614), (499, 846), (500, 804), (333, 166), (332, 155), (239, 149), (240, 130), (299, 108), (359, 89)]\n",
      "most common cat image height:  [(499, 2914), (500, 2859), (349, 188), (300, 181), (350, 175), (319, 165), (320, 164), (299, 149), (399, 149), (400, 142)]\n"
     ]
    }
   ],
   "source": [
    "def load_data(DATA_PATH):\n",
    "    labels = [\"dog\", \"cat\"]\n",
    "    labeled_data = {}\n",
    "    for dir in DATA_PATH: \n",
    "        print(\"processing data from: \" + dir)\n",
    "        for key in labels:           \n",
    "            labeled_data[key] = [file for file in glob.glob(os.path.join(dir, key + '*.jpg'))]\n",
    "            print(\"total \" + str(len(labeled_data[key])) + \" \" + key + \" images found.\")\n",
    "        \n",
    "    return labeled_data\n",
    "\n",
    "\n",
    "def raw_data_analysis(data):\n",
    "    image_size_counter = {}    \n",
    "    dimension_shape = [\"height\", \"width\"]\n",
    "    for key in data.keys():\n",
    "        print(\"processing: \" + key)\n",
    "        image_size_counter[key] = {}\n",
    "        image_size_counter[key][dimension_shape[0]] = Counter()\n",
    "        image_size_counter[key][dimension_shape[1]] = Counter()\n",
    "        for img_path in data[key]:\n",
    "            img = cv2.imread(img_path)            \n",
    "            image_size_counter[key][dimension_shape[0]][img.shape[0]] += 1\n",
    "            image_size_counter[key][dimension_shape[0]][img.shape[1]] += 1\n",
    "    \n",
    "        for dim in dimension_shape:\n",
    "            print(\"most common \" + key + \" image \" + dim + \": \" , image_size_counter[key][dim].most_common(10))    \n",
    "        #print(\"most common \" + key + \" image width: \", image_size_counter[key][\"width\"].most_common(10))\n",
    "        #print(\"most common \" + key + \" image height: \", image_size_counter[key][\"height\"].most_common(10))\n",
    "    \n",
    "    return image_size_counter\n",
    "        \n",
    "    \n",
    "\n",
    "data = load_data(TRAIN_DATA_PATH_LIST)\n",
    "\n",
    "\n",
    "temp_counter_dict = raw_data_analysis(data)\n",
    "    \n",
    "\n"
   ]
  },
  {
   "cell_type": "code",
   "execution_count": 35,
   "metadata": {
    "collapsed": false
   },
   "outputs": [
    {
     "name": "stdout",
     "output_type": "stream",
     "text": [
      "dog height\n",
      "max value 2486 min value 1\n",
      "max key 1050 min key 42\n",
      "dog width\n",
      "max value 1400 min value 1\n",
      "max key 702 min key 33\n"
     ]
    },
    {
     "data": {
      "image/png": "[encoded data removed]",
      "text/plain": [
       "<matplotlib.figure.Figure at 0xdfcfac8>"
      ]
     },
     "metadata": {},
     "output_type": "display_data"
    },
    {
     "name": "stdout",
     "output_type": "stream",
     "text": [
      "cat height\n",
      "max value 2914 min value 1\n",
      "max key 1023 min key 50\n",
      "cat width\n",
      "max value 1684 min value 1\n",
      "max key 768 min key 32\n"
     ]
    },
    {
     "data": {
      "image/png": "[encoded data removed]",
      "text/plain": [
       "<matplotlib.figure.Figure at 0xcdcc9b0>"
      ]
     },
     "metadata": {},
     "output_type": "display_data"
    }
   ],
   "source": [
    "COLOR = [\"red\", \"blue\"]\n",
    "color_index = 0\n",
    "\n",
    "for key in temp_counter_dict.keys():\n",
    "    fig, ax = plt.subplots()\n",
    "    size_types = temp_counter_dict[key].keys()\n",
    "    for dim in size_types:\n",
    "        print(key, dim)\n",
    "        data_keys = sorted(temp_counter_dict[key][dim].keys())       \n",
    "        data_values = [temp_counter_dict[key][dim][i] for i in data_keys]\n",
    "        print(\"max value\", max(data_values),\"min value\", min(data_values))\n",
    "        print(\"max key\", max(data_keys),\"min key\", min(data_keys))\n",
    "        \n",
    "        plt.bar(data_keys, data_values, width = 2, align='center', color=COLOR[color_index % 2], alpha=0.4)\n",
    "        color_index += 1 \n",
    "        plt.xlim(min(data_keys) - 20, max(data_keys) + 20)\n",
    "        plt.xlabel(key + ' image ' + dim + \" size distribution\")\n",
    "    \n",
    "    plt.show()   \n",
    "        \n",
    "    '''\n",
    "    y_pos = np.arange(len(size_types))\n",
    "    counts = [int(temp_counter_dict[key][x]) for x in temp_counter_dict[key]]\n",
    "    print(len(y_pos), len(counts))\n",
    "    ax.barh(y_pos, counts, align='center', color = \"blue\")\n",
    "    ax.set_yticks(y_pos)\n",
    "    ax.set_yticklabels(size_types)\n",
    "    ax.set_title(key + \" image size distribution\")\n",
    "    '''\n",
    "    \n",
    " \n",
    "    "
   ]
  },
  {
   "cell_type": "code",
   "execution_count": null,
   "metadata": {
    "collapsed": true
   },
   "outputs": [],
   "source": []
  }
 ],
 "metadata": {
  "anaconda-cloud": {},
  "kernelspec": {
   "display_name": "Python [default]",
   "language": "python",
   "name": "python3"
  },
  "language_info": {
   "codemirror_mode": {
    "name": "ipython",
    "version": 3
   },
   "file_extension": ".py",
   "mimetype": "text/x-python",
   "name": "python",
   "nbconvert_exporter": "python",
   "pygments_lexer": "ipython3",
   "version": "3.5.2"
  }
 },
 "nbformat": 4,
 "nbformat_minor": 2
}
