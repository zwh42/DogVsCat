{
 "cells": [
  {
   "cell_type": "markdown",
   "metadata": {},
   "source": [
    "## Dog Vs Cat: A CNN based Dog/Cat Classifer "
   ]
  },
  {
   "cell_type": "markdown",
   "metadata": {},
   "source": [
    "# enviroment setup"
   ]
  },
  {
   "cell_type": "code",
   "execution_count": null,
   "metadata": {
    "collapsed": false
   },
   "outputs": [],
   "source": [
    "import numpy as np\n",
    "import os\n",
    "import glob\n",
    "import cv2\n",
    "from collections import Counter\n",
    "\n",
    "import matplotlib.pyplot as plt\n",
    "%matplotlib inline\n",
    "plt.rcParams['figure.figsize'] = (10.0, 5.0)\n",
    "\n",
    "TRAIN_DATA_PATH_LIST = [\"./train\"]\n",
    "TEST_DATA_PATH_LIST = [\"./test\"]"
   ]
  },
  {
   "cell_type": "markdown",
   "metadata": {},
   "source": [
    "# load and processing data"
   ]
  },
  {
   "cell_type": "code",
   "execution_count": null,
   "metadata": {
    "collapsed": false
   },
   "outputs": [],
   "source": [
    "def load_data(DATA_PATH):\n",
    "    labeled_data = {\"cat\":[], \"dog\":[]}\n",
    "    for dir in DATA_PATH: \n",
    "        print(\"processing data from: \" + dir)\n",
    "        for key in labeled_data.keys():           \n",
    "            labeled_data[key] = [file for file in glob.glob(os.path.join(dir, key + '*.jpg'))]\n",
    "            print(\"total \" + str(len(labeled_data[key])) + \" \" + key + \" images found.\")\n",
    "        \n",
    "    return labeled_data\n",
    "\n",
    "\n",
    "def raw_data_analysis(data):\n",
    "    image_size_counter = {}    \n",
    "    for key in data.keys():\n",
    "        print(\"processing: \" + key)\n",
    "        image_size_counter[key] = Counter()\n",
    "        for img_path in data[key]:\n",
    "            img = cv2.imread(img_path)\n",
    "            #print(key, img.shape)\n",
    "            image_size_counter[key][str(img.shape)] += 1\n",
    "    \n",
    "        print(key + \": \", image_size_counter[key].most_common(10))\n",
    "    \n",
    "    return image_size_counter\n",
    "        \n",
    "    \n",
    "\n",
    "data = load_data(TRAIN_DATA_PATH_LIST)\n",
    "temp_counter_dict = raw_data_analysis(data)\n",
    "    \n",
    "'''\n",
    "data = load_data(TRAIN_DATA_PATH_LIST)\n",
    "#print(data[\"cat\"])\n",
    "img = cv2.imread(data[\"cat\"][0])\n",
    "plt.imshow(img)\n",
    "plt.show()\n",
    "'''\n"
   ]
  },
  {
   "cell_type": "code",
   "execution_count": null,
   "metadata": {
    "collapsed": false
   },
   "outputs": [],
   "source": [
    "for key in temp_counter_dict.keys():\n",
    "    fig, ax = plt.subplots()\n",
    "    size_types = temp_counter_dict[key].keys()\n",
    "    y_pos = np.arange(len(size_types))\n",
    "    counts = [int(temp_counter_dict[key][x]) for x in temp_counter_dict[key]]\n",
    "    print(len(y_pos), len(counts))\n",
    "    ax.barh(y_pos, counts, align='center', color = \"blue\")\n",
    "    ax.set_yticks(y_pos)\n",
    "    ax.set_yticklabels(size_types)\n",
    "    ax.set_title(key + \" image size distribution\")\n",
    "    plt.show()\n",
    "    \n",
    "    "
   ]
  },
  {
   "cell_type": "code",
   "execution_count": null,
   "metadata": {
    "collapsed": true
   },
   "outputs": [],
   "source": []
  }
 ],
 "metadata": {
  "anaconda-cloud": {},
  "kernelspec": {
   "display_name": "Python 3",
   "language": "python",
   "name": "python3"
  },
  "language_info": {
   "codemirror_mode": {
    "name": "ipython",
    "version": 3
   },
   "file_extension": ".py",
   "mimetype": "text/x-python",
   "name": "python",
   "nbconvert_exporter": "python",
   "pygments_lexer": "ipython3",
   "version": "3.5.2"
  }
 },
 "nbformat": 4,
 "nbformat_minor": 2
}
