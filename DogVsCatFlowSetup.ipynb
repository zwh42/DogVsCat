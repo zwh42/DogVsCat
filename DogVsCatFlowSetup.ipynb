{
 "cells": [
  {
   "cell_type": "markdown",
   "metadata": {},
   "source": [
    "## Dog Vs Cat: A CNN based Dog/Cat Classifer "
   ]
  },
  {
   "cell_type": "markdown",
   "metadata": {},
   "source": [
    "# enviroment setup"
   ]
  },
  {
   "cell_type": "code",
   "execution_count": null,
   "metadata": {
    "collapsed": false
   },
   "outputs": [],
   "source": [
    "import numpy as np\n",
    "import os\n",
    "import glob\n",
    "import cv2\n",
    "from collections import Counter\n",
    "import random\n",
    "from sklearn.model_selection import train_test_split\n",
    "from sklearn.utils import shuffle\n",
    "\n",
    "import matplotlib.pyplot as plt\n",
    "%matplotlib inline\n",
    "plt.rcParams['figure.figsize'] = (10.0, 5.0)\n",
    "\n",
    "TRAIN_DATA_PATH_LIST = [\"./train\"]\n",
    "TEST_DATA_PATH_LIST = [\"./test\"]"
   ]
  },
  {
   "cell_type": "markdown",
   "metadata": {},
   "source": [
    "# load and processing data"
   ]
  },
  {
   "cell_type": "code",
   "execution_count": null,
   "metadata": {
    "collapsed": false
   },
   "outputs": [],
   "source": [
    "def load_data(DATA_PATH):\n",
    "    labels = [\"dog\", \"cat\"]\n",
    "    labeled_data = {}\n",
    "    for dir in DATA_PATH: \n",
    "        print(\"processing data from: \" + dir)\n",
    "        for key in labels:           \n",
    "            labeled_data[key] = [file for file in glob.glob(os.path.join(dir, key + '*.jpg'))]\n",
    "            print(\"total \" + str(len(labeled_data[key])) + \" \" + key + \" images found.\")\n",
    "        \n",
    "    return labeled_data\n",
    "\n",
    "\n",
    "def raw_data_analysis(data):\n",
    "    image_size_counter = {}    \n",
    "    dimension_shape = [\"height\", \"width\"]\n",
    "    for key in data.keys():\n",
    "        print(\"processing: \" + key)\n",
    "        image_size_counter[key] = {}\n",
    "        for i in range(len(dimension_shape)):\n",
    "            print(dimension_shape[i])\n",
    "            image_size_counter[key][dimension_shape[i]] = Counter()            \n",
    "            for img_path in data[key]:\n",
    "                img = cv2.imread(img_path)            \n",
    "                image_size_counter[key][dimension_shape[i]][img.shape[i]] += 1\n",
    "                #image_size_counter[key][dimension_shape[0]][img.shape[1]] += 1\n",
    "        \n",
    "            print(\"most common \" + key + \" image \" + dimension_shape[i] + \": \" , image_size_counter[key][dimension_shape[i]].most_common(10))\n",
    "        \n",
    "        #for dim in dimension_shape:\n",
    "        #    print(\"most common \" + key + \" image \" + dim + \": \" , image_size_counter[key][dim].most_common(10))    \n",
    "        #print(\"most common \" + key + \" image width: \", image_size_counter[key][\"width\"].most_common(10))\n",
    "        #print(\"most common \" + key + \" image height: \", image_size_counter[key][\"height\"].most_common(10))\n",
    "    \n",
    "    return image_size_counter\n",
    "        \n",
    "    \n",
    "\n",
    "data = load_data(TRAIN_DATA_PATH_LIST)\n",
    "\n",
    "\n",
    "temp_counter_dict = raw_data_analysis(data)\n",
    "    \n",
    "\n"
   ]
  },
  {
   "cell_type": "code",
   "execution_count": null,
   "metadata": {
    "collapsed": false
   },
   "outputs": [],
   "source": [
    "#data_label_list = list(temp_counter_dict.keys())\n",
    "#dimension_list = list(temp_counter_dict[data_label_list[0]].keys())\n",
    "\n",
    "        \n",
    "def visualize_image_size_distribution(counter_dict):\n",
    "    data_label_list = list(counter_dict.keys())\n",
    "    dimension_list =   list(counter_dict[data_label_list[0]].keys())   \n",
    "    for dimension in dimension_list:    \n",
    "        f, ax = plt.subplots(1, 2)\n",
    "        for i in range(len(data_label_list)):\n",
    "            x = sorted(counter_dict[data_label_list[i]][dimension].keys())\n",
    "            y = [counter_dict[data_label_list[i]][dimension][j] for j in x]\n",
    "            ax[i].bar(x, y, width = 4, align='center', color= \"green\", alpha=0.4)            \n",
    "            ax[i].set_title(data_label_list[i] + \" image \" + dimension + \" distribution\")\n",
    "            ax[i].set_xlabel(\"size (in pixel)\")\n",
    "            ax[i].set_ylabel(\"count\")\n",
    "        plt.show()\n",
    "        \n",
    "    \n",
    "            \n",
    "\n",
    "visualize_image_size_distribution(temp_counter_dict)\n",
    "\n",
    "    \n",
    " \n",
    "    "
   ]
  },
  {
   "cell_type": "markdown",
   "metadata": {
    "collapsed": true
   },
   "source": [
    "# resize all training image to the same size"
   ]
  },
  {
   "cell_type": "code",
   "execution_count": null,
   "metadata": {
    "collapsed": false
   },
   "outputs": [],
   "source": [
    "def resize_image(image, shape = (500, 500)):\n",
    "    resized_image = cv2.resize(image, shape)\n",
    "    return resized_image\n",
    "\n",
    "img = cv2.imread(data[\"cat\"][100])\n",
    "img = cv2.cvtColor(img, cv2.COLOR_BGR2RGB)\n",
    "plt.subplot(121).imshow(img)\n",
    "r = resize_image(img, (500, 500))\n",
    "plt.subplot(122).imshow(r)\n",
    "plt.show()\n",
    "\n",
    "def sample_generator(samples, batch_size=100):\n",
    "    sample_list = []\n",
    "    for label in samples.keys():\n",
    "        for image_path in samples[label]:\n",
    "            sample_list.append([label, image_path])\n",
    "    \n",
    "    print(sample_list)\n",
    "    sample_list = shuffle(sample_list)\n",
    "    print(sample_list)\n",
    "    \n",
    "    \n",
    "\n",
    "sample_generator(data)\n",
    "    "
   ]
  },
  {
   "cell_type": "code",
   "execution_count": null,
   "metadata": {
    "collapsed": true
   },
   "outputs": [],
   "source": []
  },
  {
   "cell_type": "code",
   "execution_count": null,
   "metadata": {
    "collapsed": true
   },
   "outputs": [],
   "source": []
  }
 ],
 "metadata": {
  "anaconda-cloud": {},
  "kernelspec": {
   "display_name": "Python [default]",
   "language": "python",
   "name": "python3"
  },
  "language_info": {
   "codemirror_mode": {
    "name": "ipython",
    "version": 3
   },
   "file_extension": ".py",
   "mimetype": "text/x-python",
   "name": "python",
   "nbconvert_exporter": "python",
   "pygments_lexer": "ipython3",
   "version": "3.5.2"
  }
 },
 "nbformat": 4,
 "nbformat_minor": 2
}
